{
 "cells": [
  {
   "cell_type": "code",
   "execution_count": 83,
   "id": "00c67ff0",
   "metadata": {},
   "outputs": [],
   "source": [
    "\"\"\"\n",
    "dataset: https://finance.yahoo.com/quote/GE/history/\n",
    "         https://finance.yahoo.com/quote/%5EGSPC/history?p=%5EGSPC\n",
    "\"\"\"\n",
    "\n",
    "import numpy as np\n",
    "from matplotlib import pyplot as plt\n",
    "import seaborn as sns\n",
    "import pandas as pd\n",
    "\n",
    "from tensorflow.keras.models import Sequential\n",
    "from tensorflow.keras.layers import Dense, Dropout, LSTM\n",
    "from sklearn.preprocessing import StandardScaler\n",
    "\n",
    "import warnings\n",
    "warnings.filterwarnings('ignore')"
   ]
  },
  {
   "cell_type": "code",
   "execution_count": 84,
   "id": "c5f47fdb",
   "metadata": {
    "scrolled": true
   },
   "outputs": [
    {
     "data": {
      "text/html": [
       "<div>\n",
       "<style scoped>\n",
       "    .dataframe tbody tr th:only-of-type {\n",
       "        vertical-align: middle;\n",
       "    }\n",
       "\n",
       "    .dataframe tbody tr th {\n",
       "        vertical-align: top;\n",
       "    }\n",
       "\n",
       "    .dataframe thead th {\n",
       "        text-align: right;\n",
       "    }\n",
       "</style>\n",
       "<table border=\"1\" class=\"dataframe\">\n",
       "  <thead>\n",
       "    <tr style=\"text-align: right;\">\n",
       "      <th></th>\n",
       "      <th>Date</th>\n",
       "      <th>Open</th>\n",
       "      <th>High</th>\n",
       "      <th>Low</th>\n",
       "      <th>Close</th>\n",
       "      <th>Adj Close</th>\n",
       "      <th>Volume</th>\n",
       "    </tr>\n",
       "  </thead>\n",
       "  <tbody>\n",
       "    <tr>\n",
       "      <th>0</th>\n",
       "      <td>2000-02-18</td>\n",
       "      <td>262.215027</td>\n",
       "      <td>264.091553</td>\n",
       "      <td>250.080063</td>\n",
       "      <td>250.455368</td>\n",
       "      <td>137.571899</td>\n",
       "      <td>5883072</td>\n",
       "    </tr>\n",
       "    <tr>\n",
       "      <th>1</th>\n",
       "      <td>2000-02-22</td>\n",
       "      <td>252.707214</td>\n",
       "      <td>260.213379</td>\n",
       "      <td>250.330276</td>\n",
       "      <td>259.462769</td>\n",
       "      <td>142.519531</td>\n",
       "      <td>4534778</td>\n",
       "    </tr>\n",
       "    <tr>\n",
       "      <th>2</th>\n",
       "      <td>2000-02-23</td>\n",
       "      <td>260.213379</td>\n",
       "      <td>266.093201</td>\n",
       "      <td>256.960693</td>\n",
       "      <td>261.214203</td>\n",
       "      <td>143.481583</td>\n",
       "      <td>3656349</td>\n",
       "    </tr>\n",
       "    <tr>\n",
       "      <th>3</th>\n",
       "      <td>2000-02-24</td>\n",
       "      <td>260.838898</td>\n",
       "      <td>266.093201</td>\n",
       "      <td>252.331909</td>\n",
       "      <td>262.215027</td>\n",
       "      <td>144.031387</td>\n",
       "      <td>4599325</td>\n",
       "    </tr>\n",
       "    <tr>\n",
       "      <th>4</th>\n",
       "      <td>2000-02-25</td>\n",
       "      <td>259.212555</td>\n",
       "      <td>262.089905</td>\n",
       "      <td>251.581299</td>\n",
       "      <td>252.457016</td>\n",
       "      <td>138.671463</td>\n",
       "      <td>4441255</td>\n",
       "    </tr>\n",
       "  </tbody>\n",
       "</table>\n",
       "</div>"
      ],
      "text/plain": [
       "         Date        Open        High         Low       Close   Adj Close  \\\n",
       "0  2000-02-18  262.215027  264.091553  250.080063  250.455368  137.571899   \n",
       "1  2000-02-22  252.707214  260.213379  250.330276  259.462769  142.519531   \n",
       "2  2000-02-23  260.213379  266.093201  256.960693  261.214203  143.481583   \n",
       "3  2000-02-24  260.838898  266.093201  252.331909  262.215027  144.031387   \n",
       "4  2000-02-25  259.212555  262.089905  251.581299  252.457016  138.671463   \n",
       "\n",
       "    Volume  \n",
       "0  5883072  \n",
       "1  4534778  \n",
       "2  3656349  \n",
       "3  4599325  \n",
       "4  4441255  "
      ]
     },
     "execution_count": 84,
     "metadata": {},
     "output_type": "execute_result"
    }
   ],
   "source": [
    "#from datetime import datetime\n",
    "\n",
    "#Read the csv file\n",
    "df = pd.read_csv('database/GE.csv')\n",
    "df.head() #7 columns, including the Date. "
   ]
  },
  {
   "cell_type": "code",
   "execution_count": 85,
   "id": "1144ce01",
   "metadata": {},
   "outputs": [
    {
     "data": {
      "text/plain": [
       "(5787, 7)"
      ]
     },
     "execution_count": 85,
     "metadata": {},
     "output_type": "execute_result"
    }
   ],
   "source": [
    "df.shape"
   ]
  },
  {
   "cell_type": "code",
   "execution_count": 86,
   "id": "08c29fb2",
   "metadata": {},
   "outputs": [],
   "source": [
    "# Separate Date columns for future plotting\n",
    "train_dates = pd.to_datetime(df['Date']) "
   ]
  },
  {
   "cell_type": "code",
   "execution_count": 87,
   "id": "05796eab",
   "metadata": {
    "scrolled": false
   },
   "outputs": [
    {
     "data": {
      "text/html": [
       "<div>\n",
       "<style scoped>\n",
       "    .dataframe tbody tr th:only-of-type {\n",
       "        vertical-align: middle;\n",
       "    }\n",
       "\n",
       "    .dataframe tbody tr th {\n",
       "        vertical-align: top;\n",
       "    }\n",
       "\n",
       "    .dataframe thead th {\n",
       "        text-align: right;\n",
       "    }\n",
       "</style>\n",
       "<table border=\"1\" class=\"dataframe\">\n",
       "  <thead>\n",
       "    <tr style=\"text-align: right;\">\n",
       "      <th></th>\n",
       "      <th>Open</th>\n",
       "      <th>High</th>\n",
       "      <th>Low</th>\n",
       "      <th>Close</th>\n",
       "      <th>Adj Close</th>\n",
       "    </tr>\n",
       "  </thead>\n",
       "  <tbody>\n",
       "    <tr>\n",
       "      <th>0</th>\n",
       "      <td>262.215027</td>\n",
       "      <td>264.091553</td>\n",
       "      <td>250.080063</td>\n",
       "      <td>250.455368</td>\n",
       "      <td>137.571899</td>\n",
       "    </tr>\n",
       "    <tr>\n",
       "      <th>1</th>\n",
       "      <td>252.707214</td>\n",
       "      <td>260.213379</td>\n",
       "      <td>250.330276</td>\n",
       "      <td>259.462769</td>\n",
       "      <td>142.519531</td>\n",
       "    </tr>\n",
       "    <tr>\n",
       "      <th>2</th>\n",
       "      <td>260.213379</td>\n",
       "      <td>266.093201</td>\n",
       "      <td>256.960693</td>\n",
       "      <td>261.214203</td>\n",
       "      <td>143.481583</td>\n",
       "    </tr>\n",
       "    <tr>\n",
       "      <th>3</th>\n",
       "      <td>260.838898</td>\n",
       "      <td>266.093201</td>\n",
       "      <td>252.331909</td>\n",
       "      <td>262.215027</td>\n",
       "      <td>144.031387</td>\n",
       "    </tr>\n",
       "    <tr>\n",
       "      <th>4</th>\n",
       "      <td>259.212555</td>\n",
       "      <td>262.089905</td>\n",
       "      <td>251.581299</td>\n",
       "      <td>252.457016</td>\n",
       "      <td>138.671463</td>\n",
       "    </tr>\n",
       "  </tbody>\n",
       "</table>\n",
       "</div>"
      ],
      "text/plain": [
       "         Open        High         Low       Close   Adj Close\n",
       "0  262.215027  264.091553  250.080063  250.455368  137.571899\n",
       "1  252.707214  260.213379  250.330276  259.462769  142.519531\n",
       "2  260.213379  266.093201  256.960693  261.214203  143.481583\n",
       "3  260.838898  266.093201  252.331909  262.215027  144.031387\n",
       "4  259.212555  262.089905  251.581299  252.457016  138.671463"
      ]
     },
     "execution_count": 87,
     "metadata": {},
     "output_type": "execute_result"
    }
   ],
   "source": [
    "df2=df.drop(['Date', 'Volume'],axis=1).astype('float64')\n",
    "df2.head()"
   ]
  },
  {
   "cell_type": "code",
   "execution_count": null,
   "id": "ebe8fb47",
   "metadata": {},
   "outputs": [],
   "source": [
    "dataset=df2['Open'].values.astype('float64').reshape(-1,1) "
   ]
  },
  {
   "cell_type": "code",
   "execution_count": 88,
   "id": "b9a37f85",
   "metadata": {},
   "outputs": [],
   "source": [
    "# normalize the dataset\n",
    "scaler = StandardScaler()\n",
    "scaler = scaler.fit(df2) \n",
    "df2_scaled = scaler.transform(df2)"
   ]
  },
  {
   "cell_type": "code",
   "execution_count": 108,
   "id": "c518ceab",
   "metadata": {},
   "outputs": [
    {
     "name": "stdout",
     "output_type": "stream",
     "text": [
      "train shape = (4340, 5)\n",
      "test shape = (1447, 5)\n"
     ]
    }
   ],
   "source": [
    "n_features=5 # as we have 5 columns \n",
    "n_future = 1   # 1 day ahead we want to predict\n",
    "seq_size = 14  # Number of past days we want to use to predict the future.\n",
    "\n",
    "\n",
    "# split into train and test sets\n",
    "train_size = int(df2_scaled.shape[0] * 0.75)\n",
    "\n",
    "train, test = df2_scaled[0:train_size ,:], df2_scaled[train_size: ,:]\n",
    "\n",
    "\n",
    "print('train.shape = {}'.format(train.shape))\n",
    "print('test.shape = {}'.format(test.shape))"
   ]
  },
  {
   "cell_type": "code",
   "execution_count": 112,
   "id": "54b2eb6c",
   "metadata": {},
   "outputs": [
    {
     "name": "stdout",
     "output_type": "stream",
     "text": [
      "Shape of xtrain: (4326, 14, 5)\n",
      "Shape of ytrain: (4326, 1)\n",
      "Shape of xtest : (1433, 14, 5)\n",
      "Shape of ytest : (1433, 1)\n"
     ]
    }
   ],
   "source": [
    "# Reformat input data into a shape: (n_samples , timesteps , n_features),\n",
    "# which timestep=1 and n_feature=5\n",
    "\n",
    "def to_sequences_multivariable(data, seq_size=1, n_future=1): # to_sequence for multivariable\n",
    "    x = []\n",
    "    y = []\n",
    "    for i in range(seq_size, len(data) - n_future +1):\n",
    "        x.append(data[i - seq_size:i, 0:data.shape[1]])\n",
    "        y.append(data[i + n_future - 1:i + n_future, 0])\n",
    "        \n",
    "    return np.array(x),np.array(y)\n",
    "\n",
    "\n",
    "xtrain, ytrain = to_sequences_multivariable(train, seq_size)\n",
    "xtest,  ytest  = to_sequences_multivariable(test, seq_size)\n",
    "\n",
    "print(\"Shape of xtrain: {}\".format(xtrain.shape))\n",
    "print(\"Shape of ytrain: {}\".format(ytrain.shape))\n",
    "\n",
    "print(\"Shape of xtest : {}\".format(xtest.shape))\n",
    "print(\"Shape of ytest : {}\".format(ytest.shape))"
   ]
  },
  {
   "cell_type": "code",
   "execution_count": 113,
   "id": "e6b123e0",
   "metadata": {},
   "outputs": [
    {
     "name": "stdout",
     "output_type": "stream",
     "text": [
      "Epoch 1/20\n",
      "35/35 [==============================] - 14s 127ms/step - loss: 0.3045 - mae: 0.3543 - val_loss: 0.0091 - val_mae: 0.0786\n",
      "Epoch 2/20\n",
      "35/35 [==============================] - 3s 87ms/step - loss: 0.0437 - mae: 0.1352 - val_loss: 0.0171 - val_mae: 0.1177\n",
      "Epoch 3/20\n",
      "35/35 [==============================] - 3s 89ms/step - loss: 0.0352 - mae: 0.1218 - val_loss: 0.0125 - val_mae: 0.0982\n",
      "Epoch 4/20\n",
      "35/35 [==============================] - 3s 86ms/step - loss: 0.0317 - mae: 0.1148 - val_loss: 0.0281 - val_mae: 0.1558\n",
      "Epoch 5/20\n",
      "35/35 [==============================] - 3s 87ms/step - loss: 0.0304 - mae: 0.1139 - val_loss: 0.0034 - val_mae: 0.0437\n",
      "Epoch 6/20\n",
      "35/35 [==============================] - 3s 86ms/step - loss: 0.0255 - mae: 0.1042 - val_loss: 0.0034 - val_mae: 0.0440\n",
      "Epoch 7/20\n",
      "35/35 [==============================] - 3s 87ms/step - loss: 0.0224 - mae: 0.1015 - val_loss: 0.0100 - val_mae: 0.0883\n",
      "Epoch 8/20\n",
      "35/35 [==============================] - 3s 86ms/step - loss: 0.0242 - mae: 0.1025 - val_loss: 0.0054 - val_mae: 0.0598\n",
      "Epoch 9/20\n",
      "35/35 [==============================] - 3s 87ms/step - loss: 0.0225 - mae: 0.0990 - val_loss: 0.0068 - val_mae: 0.0701\n",
      "Epoch 10/20\n",
      "35/35 [==============================] - 3s 87ms/step - loss: 0.0213 - mae: 0.0986 - val_loss: 0.0042 - val_mae: 0.0526\n",
      "Epoch 11/20\n",
      "35/35 [==============================] - 3s 87ms/step - loss: 0.0205 - mae: 0.0955 - val_loss: 0.0171 - val_mae: 0.1221\n",
      "Epoch 12/20\n",
      "35/35 [==============================] - 3s 86ms/step - loss: 0.0189 - mae: 0.0934 - val_loss: 0.0194 - val_mae: 0.1315\n",
      "Epoch 13/20\n",
      "35/35 [==============================] - 3s 87ms/step - loss: 0.0190 - mae: 0.0920 - val_loss: 0.0043 - val_mae: 0.0544\n",
      "Epoch 14/20\n",
      "35/35 [==============================] - 3s 87ms/step - loss: 0.0184 - mae: 0.0919 - val_loss: 0.0064 - val_mae: 0.0706\n",
      "Epoch 15/20\n",
      "35/35 [==============================] - 3s 87ms/step - loss: 0.0190 - mae: 0.0917 - val_loss: 0.0029 - val_mae: 0.0416\n",
      "Epoch 16/20\n",
      "35/35 [==============================] - 3s 87ms/step - loss: 0.0191 - mae: 0.0918 - val_loss: 0.0063 - val_mae: 0.0697\n",
      "Epoch 17/20\n",
      "35/35 [==============================] - 3s 93ms/step - loss: 0.0181 - mae: 0.0898 - val_loss: 0.0075 - val_mae: 0.0785\n",
      "Epoch 18/20\n",
      "35/35 [==============================] - 3s 87ms/step - loss: 0.0210 - mae: 0.0968 - val_loss: 0.0122 - val_mae: 0.1041\n",
      "Epoch 19/20\n",
      "35/35 [==============================] - 3s 87ms/step - loss: 0.0191 - mae: 0.0911 - val_loss: 0.0056 - val_mae: 0.0670\n",
      "Epoch 20/20\n",
      "35/35 [==============================] - 3s 91ms/step - loss: 0.0170 - mae: 0.0873 - val_loss: 0.0100 - val_mae: 0.0939\n"
     ]
    }
   ],
   "source": [
    "# model:\n",
    "model = Sequential()\n",
    "model.add(LSTM(64, activation='relu', input_shape=(seq_size, n_features), return_sequences=True))\n",
    "model.add(LSTM(32, activation='relu', return_sequences=False))\n",
    "model.add(Dropout(0.2))\n",
    "model.add(Dense(1)) \n",
    "\n",
    "\n",
    "model.compile(optimizer='adam', loss='mse', metrics='mae')\n",
    "\n",
    "\n",
    "# fit the model\n",
    "history = model.fit(xtrain, ytrain, epochs=20, batch_size=125, validation_data=[xtest,ytest], verbose=1)"
   ]
  },
  {
   "cell_type": "code",
   "execution_count": 114,
   "id": "06ae45a1",
   "metadata": {},
   "outputs": [
    {
     "data": {
      "image/png": "[encoded data removed]",
      "text/plain": [
       "<Figure size 640x480 with 1 Axes>"
      ]
     },
     "metadata": {},
     "output_type": "display_data"
    }
   ],
   "source": [
    "plt.plot(history.history['loss'], label='Training loss')\n",
    "plt.plot(history.history['val_loss'], label='Validation loss')\n",
    "plt.legend()\n",
    "plt.show()"
   ]
  },
  {
   "cell_type": "code",
   "execution_count": 116,
   "id": "7ee62713",
   "metadata": {
    "scrolled": true
   },
   "outputs": [
    {
     "name": "stdout",
     "output_type": "stream",
     "text": [
      "136/136 [==============================] - 3s 20ms/step\n",
      "45/45 [==============================] - 1s 20ms/step\n"
     ]
    }
   ],
   "source": [
    "# make predictions\n",
    "ytrainPred = model.predict(xtrain)\n",
    "ytestPred = model.predict(xtest)"
   ]
  },
  {
   "cell_type": "code",
   "execution_count": 118,
   "id": "2e80b156",
   "metadata": {},
   "outputs": [
    {
     "name": "stdout",
     "output_type": "stream",
     "text": [
      "(4326, 1) (1433, 1)\n"
     ]
    }
   ],
   "source": [
    "print(ytrainPred.shape,ytestPred.shape) "
   ]
  },
  {
   "cell_type": "code",
   "execution_count": 126,
   "id": "9c91d927",
   "metadata": {},
   "outputs": [
    {
     "name": "stdout",
     "output_type": "stream",
     "text": [
      "(4326, 1)\n",
      "(4326, 1)\n",
      "(1433, 1)\n",
      "(1433, 1)\n"
     ]
    }
   ],
   "source": [
    "#Perform inverse transformation to rescale back to original range\n",
    "#Since we used 5 variables for transform, the inverse expects same dimensions\n",
    "#Therefore, let us copy our values 5 times and discard them after inverse transform\n",
    "\n",
    "def scaler_inverse_with_column_copier(data):\n",
    "    data_copied = np.repeat(data, df2.shape[1], axis=1)\n",
    "    y_pred_future = (scaler.inverse_transform(data_copied)[:,0]).reshape(-1,1)\n",
    "    return y_pred_future\n",
    "\n",
    "\n",
    "\n",
    "ytrain_back_to_unscaled = scaler_inverse_with_column_copier(ytrain)\n",
    "ytest_back_to_unscaled  = scaler_inverse_with_column_copier(ytest)\n",
    "\n",
    "ytrainPred_back_to_unscaled = scaler_inverse_with_column_copier(ytrainPred)\n",
    "ytestPred_back_to_unscaled  = scaler_inverse_with_column_copier(ytestPred)\n",
    "\n",
    "print(ytrain_back_to_unscaled.shape)\n",
    "print(ytrainPred_back_to_unscaled.shape)\n",
    "\n",
    "print(ytest_back_to_unscaled.shape)\n",
    "print(ytestPred_back_to_unscaled.shape)\n"
   ]
  },
  {
   "cell_type": "code",
   "execution_count": 131,
   "id": "ef9d4f63",
   "metadata": {},
   "outputs": [
    {
     "name": "stdout",
     "output_type": "stream",
     "text": [
      "Train Score: 3.76 RMSE\n",
      "Test Score: 6.82 RMSE\n"
     ]
    },
    {
     "data": {
      "image/png": "[encoded data removed]",
      "text/plain": [
       "<Figure size 640x480 with 1 Axes>"
      ]
     },
     "metadata": {},
     "output_type": "display_data"
    }
   ],
   "source": [
    "import math\n",
    "from sklearn.metrics import mean_squared_error\n",
    "\n",
    "# Estimate model performance\n",
    "\n",
    "# calculate root mean squared error\n",
    "trainScore = math.sqrt(mean_squared_error(ytrain_back_to_unscaled, ytrainPred_back_to_unscaled)) #[:,0]\n",
    "print('Train Score: %.2f RMSE' % (trainScore))\n",
    "\n",
    "testScore = math.sqrt(mean_squared_error(ytest_back_to_unscaled, ytestPred_back_to_unscaled))\n",
    "print('Test Score: %.2f RMSE' % (testScore))\n",
    "\n",
    "\n",
    "\n",
    "# shift train predictions for plotting\n",
    "ytrainPredictPlot = np.empty_like(dataset)\n",
    "ytrainPredictPlot[:] = np.nan\n",
    "ytrainPredictPlot[seq_size:train_size] = ytrainPred_back_to_unscaled\n",
    "\n",
    "# shift test predictions for plotting\n",
    "ytestPredictPlot = np.empty_like(dataset)\n",
    "ytestPredictPlot[:] = np.nan\n",
    "\n",
    "ytestPredictPlot[train_size+seq_size:len(dataset)] = ytestPred_back_to_unscaled\n",
    "\n",
    "\n",
    "# plot baseline and predictions\n",
    "plt.plot(dataset, label='original data') #\n",
    "plt.plot(ytrainPredictPlot, label='Train_pred')\n",
    "plt.plot(ytestPredictPlot, label='Test_pred')\n",
    "plt.legend()\n",
    "plt.show()\n"
   ]
  },
  {
   "cell_type": "code",
   "execution_count": null,
   "id": "be32e031",
   "metadata": {},
   "outputs": [],
   "source": []
  },
  {
   "cell_type": "code",
   "execution_count": null,
   "id": "44fc11e4",
   "metadata": {},
   "outputs": [],
   "source": []
  }
 ],
 "metadata": {
  "kernelspec": {
   "display_name": "Python 3 (ipykernel)",
   "language": "python",
   "name": "python3"
  },
  "language_info": {
   "codemirror_mode": {
    "name": "ipython",
    "version": 3
   },
   "file_extension": ".py",
   "mimetype": "text/x-python",
   "name": "python",
   "nbconvert_exporter": "python",
   "pygments_lexer": "ipython3",
   "version": "3.8.13"
  }
 },
 "nbformat": 4,
 "nbformat_minor": 5
}
